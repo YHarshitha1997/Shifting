{
 "cells": [
  {
   "cell_type": "code",
   "execution_count": 1,
   "metadata": {},
   "outputs": [
    {
     "data": {
      "text/plain": [
       "[4, 1, 2, 3]"
      ]
     },
     "execution_count": 1,
     "metadata": {},
     "output_type": "execute_result"
    }
   ],
   "source": [
    "def right_shift(array):\n",
    "    try:\n",
    "        assert type(array) == list\n",
    "    except:\n",
    "        return \"Sorry! Input a list\"\n",
    "    \n",
    "    length = len(array)\n",
    "    temp = array[-1]\n",
    "    \n",
    "    for i in range(length-1, 0, -1):\n",
    "        array[i] = array[i-1]\n",
    "    array[0] =  temp\n",
    "    \n",
    "    return array\n",
    "\n",
    "right_shift([1,2,3,4])"
   ]
  }
 ],
 "metadata": {
  "kernelspec": {
   "display_name": "Python 3",
   "language": "python",
   "name": "python3"
  },
  "language_info": {
   "codemirror_mode": {
    "name": "ipython",
    "version": 3
   },
   "file_extension": ".py",
   "mimetype": "text/x-python",
   "name": "python",
   "nbconvert_exporter": "python",
   "pygments_lexer": "ipython3",
   "version": "3.8.8"
  }
 },
 "nbformat": 4,
 "nbformat_minor": 2
}
